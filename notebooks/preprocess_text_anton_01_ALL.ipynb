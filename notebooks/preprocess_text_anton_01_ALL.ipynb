{
 "cells": [
  {
   "cell_type": "code",
   "execution_count": 2,
   "id": "4109f081",
   "metadata": {},
   "outputs": [
    {
     "name": "stdout",
     "output_type": "stream",
     "text": [
      "INFO: Pandarallel will run on 6 workers.\n",
      "INFO: Pandarallel will use standard multiprocessing data transfer (pipe) to transfer data between the main process and workers.\n",
      "\n",
      "WARNING: You are on Windows. If you detect any issue with pandarallel, be sure you checked out the Troubleshooting page:\n",
      "https://nalepae.github.io/pandarallel/troubleshooting/\n"
     ]
    }
   ],
   "source": [
    "import string\n",
    "import joblib\n",
    "from os import path\n",
    "\n",
    "import numpy as np\n",
    "import pandas as pd\n",
    "from scipy import sparse\n",
    "import seaborn as sns\n",
    "from matplotlib import pyplot as plt\n",
    "from tqdm import tqdm\n",
    "\n",
    "from utils import ls, cat\n",
    "from pathlib import Path\n",
    "\n",
    "from time import time\n",
    "\n",
    "import requests\n",
    "\n",
    "tqdm.pandas()\n",
    "\n",
    "from pandarallel import pandarallel\n",
    "pandarallel.initialize(progress_bar=True)\n",
    "\n",
    "tqdm.pandas()"
   ]
  },
  {
   "cell_type": "code",
   "execution_count": 3,
   "id": "d9b4400b",
   "metadata": {},
   "outputs": [
    {
     "name": "stdout",
     "output_type": "stream",
     "text": [
      "DIR      D:\\data\\lenta\\lenta-ru-news.csv\n",
      "611.9 MB D:\\data\\lenta\\lenta-ru-news.csv.zip\n",
      "  7.8 MB D:\\data\\lenta\\train_lemmas.csv\n"
     ]
    }
   ],
   "source": [
    "#Dmitry\n",
    "# DATA_DIR = '../../data'\n",
    "# OUTPUT_DIR = '../../data'\n",
    "\n",
    "#Anton\n",
    "DATA_DIR = Path('D:/data/lenta')\n",
    "OUTPUT_DIR = Path('D:/data/lenta')\n",
    "\n",
    "#Dmitry\n",
    "# TRAIN_PATH = f'{DATA_DIR}/lenta-ru-news.csv'\n",
    "\n",
    "#Anton\n",
    "TRAIN_PATH = Path('D:/data/lenta/lenta-ru-news.csv/lenta-ru-news.csv')\n",
    "NUM_ROWS = 10\n",
    "TRAIN_LEMMAS_PATH = OUTPUT_DIR / 'train_lemmas.csv'\n",
    "TRAIN_LEMMAS_PATH_ALL = OUTPUT_DIR / 'train_lemmas_all.csv'\n",
    "\n",
    "\n",
    "ls(DATA_DIR)"
   ]
  },
  {
   "cell_type": "code",
   "execution_count": 4,
   "id": "4284ec55",
   "metadata": {},
   "outputs": [
    {
     "data": {
      "text/html": [
       "<div>\n",
       "<style scoped>\n",
       "    .dataframe tbody tr th:only-of-type {\n",
       "        vertical-align: middle;\n",
       "    }\n",
       "\n",
       "    .dataframe tbody tr th {\n",
       "        vertical-align: top;\n",
       "    }\n",
       "\n",
       "    .dataframe thead th {\n",
       "        text-align: right;\n",
       "    }\n",
       "</style>\n",
       "<table border=\"1\" class=\"dataframe\">\n",
       "  <thead>\n",
       "    <tr style=\"text-align: right;\">\n",
       "      <th></th>\n",
       "      <th>url</th>\n",
       "      <th>title</th>\n",
       "      <th>text</th>\n",
       "      <th>topic</th>\n",
       "      <th>tags</th>\n",
       "      <th>date</th>\n",
       "    </tr>\n",
       "  </thead>\n",
       "  <tbody>\n",
       "    <tr>\n",
       "      <th>0</th>\n",
       "      <td>https://lenta.ru/news/1914/09/16/hungarnn/</td>\n",
       "      <td>1914. Русские войска вступили в пределы Венгрии</td>\n",
       "      <td>Бои у Сопоцкина и Друскеник закончились отступ...</td>\n",
       "      <td>Библиотека</td>\n",
       "      <td>Первая мировая</td>\n",
       "      <td>1914/09/16</td>\n",
       "    </tr>\n",
       "    <tr>\n",
       "      <th>1</th>\n",
       "      <td>https://lenta.ru/news/1914/09/16/lermontov/</td>\n",
       "      <td>1914. Празднование столетия М.Ю. Лермонтова от...</td>\n",
       "      <td>Министерство народного просвещения, в виду про...</td>\n",
       "      <td>Библиотека</td>\n",
       "      <td>Первая мировая</td>\n",
       "      <td>1914/09/16</td>\n",
       "    </tr>\n",
       "    <tr>\n",
       "      <th>2</th>\n",
       "      <td>https://lenta.ru/news/1914/09/17/nesteroff/</td>\n",
       "      <td>1914. Das ist Nesteroff!</td>\n",
       "      <td>Штабс-капитан П. Н. Нестеров на днях, увидев в...</td>\n",
       "      <td>Библиотека</td>\n",
       "      <td>Первая мировая</td>\n",
       "      <td>1914/09/17</td>\n",
       "    </tr>\n",
       "  </tbody>\n",
       "</table>\n",
       "</div>"
      ],
      "text/plain": [
       "                                           url  \\\n",
       "0   https://lenta.ru/news/1914/09/16/hungarnn/   \n",
       "1  https://lenta.ru/news/1914/09/16/lermontov/   \n",
       "2  https://lenta.ru/news/1914/09/17/nesteroff/   \n",
       "\n",
       "                                               title  \\\n",
       "0  1914. Русские войска вступили в пределы Венгрии     \n",
       "1  1914. Празднование столетия М.Ю. Лермонтова от...   \n",
       "2                           1914. Das ist Nesteroff!   \n",
       "\n",
       "                                                text       topic  \\\n",
       "0  Бои у Сопоцкина и Друскеник закончились отступ...  Библиотека   \n",
       "1  Министерство народного просвещения, в виду про...  Библиотека   \n",
       "2  Штабс-капитан П. Н. Нестеров на днях, увидев в...  Библиотека   \n",
       "\n",
       "             tags        date  \n",
       "0  Первая мировая  1914/09/16  \n",
       "1  Первая мировая  1914/09/16  \n",
       "2  Первая мировая  1914/09/17  "
      ]
     },
     "metadata": {},
     "output_type": "display_data"
    },
    {
     "data": {
      "text/plain": [
       "(10, 6)"
      ]
     },
     "metadata": {},
     "output_type": "display_data"
    }
   ],
   "source": [
    "df_train = pd.read_csv(TRAIN_PATH, nrows=NUM_ROWS)\n",
    "# df_train = pd.read_csv(TRAIN_PATH)\n",
    "\n",
    "display(df_train.head(3))\n",
    "display(df_train.shape)"
   ]
  },
  {
   "cell_type": "markdown",
   "id": "298f68c2",
   "metadata": {},
   "source": [
    "## Features"
   ]
  },
  {
   "cell_type": "code",
   "execution_count": 5,
   "id": "87741d49",
   "metadata": {},
   "outputs": [
    {
     "data": {
      "text/plain": [
       "(['title', 'text'], ['title', 'text', 'date'])"
      ]
     },
     "execution_count": 5,
     "metadata": {},
     "output_type": "execute_result"
    }
   ],
   "source": [
    "text_cols = ['title', 'text']\n",
    "all_colls = ['title', 'text', 'date']\n",
    "text_cols, all_colls"
   ]
  },
  {
   "cell_type": "code",
   "execution_count": 6,
   "id": "0b1a35c9",
   "metadata": {},
   "outputs": [
    {
     "data": {
      "text/html": [
       "<div>\n",
       "<style scoped>\n",
       "    .dataframe tbody tr th:only-of-type {\n",
       "        vertical-align: middle;\n",
       "    }\n",
       "\n",
       "    .dataframe tbody tr th {\n",
       "        vertical-align: top;\n",
       "    }\n",
       "\n",
       "    .dataframe thead th {\n",
       "        text-align: right;\n",
       "    }\n",
       "</style>\n",
       "<table border=\"1\" class=\"dataframe\">\n",
       "  <thead>\n",
       "    <tr style=\"text-align: right;\">\n",
       "      <th></th>\n",
       "      <th>title</th>\n",
       "      <th>text</th>\n",
       "      <th>date</th>\n",
       "    </tr>\n",
       "  </thead>\n",
       "  <tbody>\n",
       "    <tr>\n",
       "      <th>0</th>\n",
       "      <td>1914. Русские войска вступили в пределы Венгрии</td>\n",
       "      <td>Бои у Сопоцкина и Друскеник закончились отступ...</td>\n",
       "      <td>1914/09/16</td>\n",
       "    </tr>\n",
       "    <tr>\n",
       "      <th>1</th>\n",
       "      <td>1914. Празднование столетия М.Ю. Лермонтова от...</td>\n",
       "      <td>Министерство народного просвещения, в виду про...</td>\n",
       "      <td>1914/09/16</td>\n",
       "    </tr>\n",
       "    <tr>\n",
       "      <th>2</th>\n",
       "      <td>1914. Das ist Nesteroff!</td>\n",
       "      <td>Штабс-капитан П. Н. Нестеров на днях, увидев в...</td>\n",
       "      <td>1914/09/17</td>\n",
       "    </tr>\n",
       "    <tr>\n",
       "      <th>3</th>\n",
       "      <td>1914. Бульдог-гонец под Льежем</td>\n",
       "      <td>Фотограф-корреспондент Daily Mirror рассказыва...</td>\n",
       "      <td>1914/09/17</td>\n",
       "    </tr>\n",
       "    <tr>\n",
       "      <th>4</th>\n",
       "      <td>1914. Под Люблином пойман швабский зверь</td>\n",
       "      <td>Лица, приехавшие в Варшаву из Люблина, передаю...</td>\n",
       "      <td>1914/09/18</td>\n",
       "    </tr>\n",
       "  </tbody>\n",
       "</table>\n",
       "</div>"
      ],
      "text/plain": [
       "                                               title  \\\n",
       "0  1914. Русские войска вступили в пределы Венгрии     \n",
       "1  1914. Празднование столетия М.Ю. Лермонтова от...   \n",
       "2                           1914. Das ist Nesteroff!   \n",
       "3                    1914. Бульдог-гонец под Льежем    \n",
       "4           1914. Под Люблином пойман швабский зверь   \n",
       "\n",
       "                                                text        date  \n",
       "0  Бои у Сопоцкина и Друскеник закончились отступ...  1914/09/16  \n",
       "1  Министерство народного просвещения, в виду про...  1914/09/16  \n",
       "2  Штабс-капитан П. Н. Нестеров на днях, увидев в...  1914/09/17  \n",
       "3  Фотограф-корреспондент Daily Mirror рассказыва...  1914/09/17  \n",
       "4  Лица, приехавшие в Варшаву из Люблина, передаю...  1914/09/18  "
      ]
     },
     "execution_count": 6,
     "metadata": {},
     "output_type": "execute_result"
    }
   ],
   "source": [
    "df_train[all_colls].head()\n"
   ]
  },
  {
   "cell_type": "markdown",
   "id": "7c1cc058",
   "metadata": {},
   "source": [
    "## Tokenized Text"
   ]
  },
  {
   "cell_type": "code",
   "execution_count": 7,
   "id": "60cecd62",
   "metadata": {},
   "outputs": [],
   "source": [
    "# !pip install spacy\n",
    "# python -m spacy download ru_core_news_md"
   ]
  },
  {
   "cell_type": "code",
   "execution_count": 8,
   "id": "31c617cb",
   "metadata": {},
   "outputs": [],
   "source": [
    "import spacy\n",
    "\n",
    "nlp = spacy.load('ru_core_news_md', disable=['tagger', 'attribute_ruler', 'senter', 'parser', 'ner'])"
   ]
  },
  {
   "cell_type": "code",
   "execution_count": 9,
   "id": "354653eb",
   "metadata": {},
   "outputs": [
    {
     "data": {
      "text/html": [
       "<div>\n",
       "<style scoped>\n",
       "    .dataframe tbody tr th:only-of-type {\n",
       "        vertical-align: middle;\n",
       "    }\n",
       "\n",
       "    .dataframe tbody tr th {\n",
       "        vertical-align: top;\n",
       "    }\n",
       "\n",
       "    .dataframe thead th {\n",
       "        text-align: right;\n",
       "    }\n",
       "</style>\n",
       "<table border=\"1\" class=\"dataframe\">\n",
       "  <thead>\n",
       "    <tr style=\"text-align: right;\">\n",
       "      <th></th>\n",
       "      <th>title</th>\n",
       "      <th>text</th>\n",
       "    </tr>\n",
       "  </thead>\n",
       "  <tbody>\n",
       "    <tr>\n",
       "      <th>0</th>\n",
       "      <td>1914. Русские войска вступили в пределы Венгрии</td>\n",
       "      <td>Бои у Сопоцкина и Друскеник закончились отступ...</td>\n",
       "    </tr>\n",
       "    <tr>\n",
       "      <th>1</th>\n",
       "      <td>1914. Празднование столетия М.Ю. Лермонтова от...</td>\n",
       "      <td>Министерство народного просвещения, в виду про...</td>\n",
       "    </tr>\n",
       "    <tr>\n",
       "      <th>2</th>\n",
       "      <td>1914. Das ist Nesteroff!</td>\n",
       "      <td>Штабс-капитан П. Н. Нестеров на днях, увидев в...</td>\n",
       "    </tr>\n",
       "    <tr>\n",
       "      <th>3</th>\n",
       "      <td>1914. Бульдог-гонец под Льежем</td>\n",
       "      <td>Фотограф-корреспондент Daily Mirror рассказыва...</td>\n",
       "    </tr>\n",
       "    <tr>\n",
       "      <th>4</th>\n",
       "      <td>1914. Под Люблином пойман швабский зверь</td>\n",
       "      <td>Лица, приехавшие в Варшаву из Люблина, передаю...</td>\n",
       "    </tr>\n",
       "    <tr>\n",
       "      <th>5</th>\n",
       "      <td>Космонавты сомневаются в надежности \"Мира\"</td>\n",
       "      <td>Как стало известно агентству Ассошиэйтед Пресс...</td>\n",
       "    </tr>\n",
       "    <tr>\n",
       "      <th>6</th>\n",
       "      <td>Взрыв в центре Москвы: пострадало 30 человек</td>\n",
       "      <td>В зале игровых автоматов в третьем ярусе подзе...</td>\n",
       "    </tr>\n",
       "    <tr>\n",
       "      <th>7</th>\n",
       "      <td>Япония кредитует Россию на полтора миллиарда д...</td>\n",
       "      <td>Япония приняла решение разморозить кредиты Рос...</td>\n",
       "    </tr>\n",
       "    <tr>\n",
       "      <th>8</th>\n",
       "      <td>Британцы отмечают двухлетие смерти Дианы</td>\n",
       "      <td>Британцы отмечают сегодня скорбную дату - втор...</td>\n",
       "    </tr>\n",
       "    <tr>\n",
       "      <th>9</th>\n",
       "      <td>Отмытые через Bank of NY деньги не имели отнош...</td>\n",
       "      <td>В понедельник директор департамента внешних св...</td>\n",
       "    </tr>\n",
       "  </tbody>\n",
       "</table>\n",
       "</div>"
      ],
      "text/plain": [
       "                                               title  \\\n",
       "0  1914. Русские войска вступили в пределы Венгрии     \n",
       "1  1914. Празднование столетия М.Ю. Лермонтова от...   \n",
       "2                           1914. Das ist Nesteroff!   \n",
       "3                    1914. Бульдог-гонец под Льежем    \n",
       "4           1914. Под Люблином пойман швабский зверь   \n",
       "5         Космонавты сомневаются в надежности \"Мира\"   \n",
       "6       Взрыв в центре Москвы: пострадало 30 человек   \n",
       "7  Япония кредитует Россию на полтора миллиарда д...   \n",
       "8           Британцы отмечают двухлетие смерти Дианы   \n",
       "9  Отмытые через Bank of NY деньги не имели отнош...   \n",
       "\n",
       "                                                text  \n",
       "0  Бои у Сопоцкина и Друскеник закончились отступ...  \n",
       "1  Министерство народного просвещения, в виду про...  \n",
       "2  Штабс-капитан П. Н. Нестеров на днях, увидев в...  \n",
       "3  Фотограф-корреспондент Daily Mirror рассказыва...  \n",
       "4  Лица, приехавшие в Варшаву из Люблина, передаю...  \n",
       "5  Как стало известно агентству Ассошиэйтед Пресс...  \n",
       "6  В зале игровых автоматов в третьем ярусе подзе...  \n",
       "7  Япония приняла решение разморозить кредиты Рос...  \n",
       "8  Британцы отмечают сегодня скорбную дату - втор...  \n",
       "9  В понедельник директор департамента внешних св...  "
      ]
     },
     "execution_count": 9,
     "metadata": {},
     "output_type": "execute_result"
    }
   ],
   "source": [
    "df_train[text_cols]"
   ]
  },
  {
   "cell_type": "code",
   "execution_count": 10,
   "id": "c0e68fe8",
   "metadata": {},
   "outputs": [],
   "source": [
    "# train_tokens = df_train[text_cols].fillna('') \\\n",
    "#     .progress_applymap(nlp)\n",
    "\n",
    "train_tokens = pd.DataFrame()"
   ]
  },
  {
   "cell_type": "code",
   "execution_count": 12,
   "id": "88f21c09",
   "metadata": {},
   "outputs": [
    {
     "name": "stdout",
     "output_type": "stream",
     "text": [
      "title\n"
     ]
    },
    {
     "data": {
      "application/vnd.jupyter.widget-view+json": {
       "model_id": "2cfc113f09394cdcb6f06242d55e33cf",
       "version_major": 2,
       "version_minor": 0
      },
      "text/plain": [
       "VBox(children=(HBox(children=(IntProgress(value=0, description='0.00%', max=133496), Label(value='0 / 133496')…"
      ]
     },
     "metadata": {},
     "output_type": "display_data"
    }
   ],
   "source": [
    "for i in text_cols:\n",
    "    print(i)\n",
    "    # df = pd.read_csv(TRAIN_PATH,  usecols=[i], nrows=NUM_ROWS)\n",
    "    df = pd.read_csv(TRAIN_PATH,  usecols=[i])\n",
    "    train_tokens[i] = df[i].fillna('') \\\n",
    "        .parallel_apply(nlp)\n",
    "    del df\n"
   ]
  },
  {
   "cell_type": "code",
   "execution_count": null,
   "id": "a5c57b59",
   "metadata": {},
   "outputs": [
    {
     "data": {
      "application/vnd.jupyter.widget-view+json": {
       "model_id": "25510a636dd7440f90ada52c2d737b6f",
       "version_major": 2,
       "version_minor": 0
      },
      "text/plain": [
       "VBox(children=(HBox(children=(IntProgress(value=0, description='0.00%', max=2), Label(value='0 / 2'))), HBox(c…"
      ]
     },
     "metadata": {},
     "output_type": "display_data"
    }
   ],
   "source": [
    "train_tokens\n"
   ]
  },
  {
   "cell_type": "code",
   "execution_count": null,
   "id": "4d5026b3",
   "metadata": {},
   "outputs": [],
   "source": [
    "def is_alphanum(token):\n",
    "    return not token.is_punct \\\n",
    "        and not token.is_currency \\\n",
    "        and not token.is_digit \\\n",
    "        and not token.is_punct \\\n",
    "        and not token.is_oov \\\n",
    "        and not token.is_space \\\n",
    "        and not token.is_stop \\\n",
    "        and not token.like_num \\\n",
    "        and not token.pos_ == \"PROPN\"\n",
    "\n",
    "df_text = train_tokens \\\n",
    "    .progress_applymap(lambda x: ' '.join(t.lemma_ for t in x if is_alphanum(t)))\n",
    "\n",
    "df_output_train = pd.concat([df_text, df_train['date']], axis=1)\n",
    "\n",
    "df_output_train.to_csv(TRAIN_LEMMAS_PATH)"
   ]
  },
  {
   "cell_type": "code",
   "execution_count": null,
   "id": "66f2454b",
   "metadata": {},
   "outputs": [],
   "source": [
    "# ls(OUTPUT_DIR, path.basename(TRAIN_LEMMAS_PATH))\n",
    "ls(OUTPUT_DIR, path.basename(TRAIN_LEMMAS_PATH_ALL))"
   ]
  },
  {
   "cell_type": "code",
   "execution_count": null,
   "id": "5ca2647d",
   "metadata": {},
   "outputs": [],
   "source": [
    "df = pd.read_csv(TRAIN_LEMMAS_PATH, index_col=[0])\n",
    "df['date'] = df['date'].astype('datetime64')\n",
    "df"
   ]
  },
  {
   "cell_type": "code",
   "execution_count": null,
   "id": "c4b89407",
   "metadata": {},
   "outputs": [],
   "source": [
    "from sklearn.feature_extraction.text import TfidfVectorizer, CountVectorizer\n",
    "\n",
    "n_features = 1000\n",
    "\n",
    "data_samples = df.title.fillna('')\n",
    "data_samples"
   ]
  },
  {
   "cell_type": "code",
   "execution_count": null,
   "id": "982eb274",
   "metadata": {},
   "outputs": [],
   "source": [
    "\n",
    "# Use tf-idf features for NMF.\n",
    "print(\"Extracting tf-idf features\")\n",
    "tfidf_vectorizer = TfidfVectorizer(\n",
    "    max_df=0.95, min_df=2, max_features=n_features)\n",
    "\n",
    "t0 = time()\n",
    "tfidf = tfidf_vectorizer.fit_transform(data_samples)\n",
    "print(\"done in %0.3fs.\" % (time() - t0))\n",
    "\n",
    "# Use tf (raw term count) features for LDA.\n",
    "print(\"Extracting tf features for\")\n",
    "tf_vectorizer = CountVectorizer(\n",
    "    max_df=0.95, min_df=2, max_features=n_features)\n",
    "\n",
    "t0 = time()\n",
    "tf = tf_vectorizer.fit_transform(data_samples)\n",
    "print(\"done in %0.3fs.\" % (time() - t0))\n",
    "print()"
   ]
  },
  {
   "cell_type": "code",
   "execution_count": null,
   "id": "5cf21bd7",
   "metadata": {},
   "outputs": [],
   "source": [
    "n_samples = 2000\n",
    "n_features = 1000\n",
    "n_components = 10\n",
    "n_top_words = 20\n",
    "batch_size = 128\n",
    "init = \"nndsvda\"\n",
    "\n",
    "def plot_top_words(model, feature_names, n_top_words, title):\n",
    "    fig, axes = plt.subplots(2, 5, figsize=(30, 15), sharex=True)\n",
    "    axes = axes.flatten()\n",
    "    for topic_idx, topic in enumerate(model.components_):\n",
    "        top_features_ind = topic.argsort()[: -n_top_words - 1 : -1]\n",
    "        top_features = [feature_names[i] for i in top_features_ind]\n",
    "        weights = topic[top_features_ind]\n",
    "\n",
    "        ax = axes[topic_idx]\n",
    "        ax.barh(top_features, weights, height=0.7)\n",
    "        ax.set_title(f\"Topic {topic_idx +1}\", fontdict={\"fontsize\": 30})\n",
    "        ax.invert_yaxis()\n",
    "        ax.tick_params(axis=\"both\", which=\"major\", labelsize=20)\n",
    "        for i in \"top right left\".split():\n",
    "            ax.spines[i].set_visible(False)\n",
    "        fig.suptitle(title, fontsize=40)\n",
    "\n",
    "    plt.subplots_adjust(top=0.90, bottom=0.05, wspace=0.90, hspace=0.3)\n",
    "    plt.show()"
   ]
  },
  {
   "cell_type": "code",
   "execution_count": null,
   "id": "9ac1b55b",
   "metadata": {},
   "outputs": [],
   "source": [
    "from sklearn.decomposition import LatentDirichletAllocation\n",
    "lda = LatentDirichletAllocation(n_components=10, learning_method=\"batch\",\n",
    "                                max_iter=25, random_state=0, n_jobs=-1)\n",
    "\n",
    "\n",
    "print(\n",
    "    \"\\n\" * 2,\n",
    "    \"Fitting LDA models with tf features, n_samples=%d and n_features=%d...\"\n",
    "    % (n_samples, n_features),\n",
    ")\n",
    "\n",
    "t0 = time()\n",
    "doc_topics = lda.fit_transform(tf)\n",
    "print(\"done in %0.3fs.\" % (time() - t0))\n",
    "\n",
    "tf_feature_names = tf_vectorizer.get_feature_names_out()\n",
    "plot_top_words(lda, tf_feature_names, n_top_words, \"Topics in LDA model\")"
   ]
  },
  {
   "cell_type": "code",
   "execution_count": null,
   "id": "927a5959",
   "metadata": {},
   "outputs": [],
   "source": [
    "df.date.hist()"
   ]
  },
  {
   "cell_type": "code",
   "execution_count": null,
   "id": "cdf907de",
   "metadata": {},
   "outputs": [],
   "source": [
    "df_train = pd.read_csv(TRAIN_PATH)"
   ]
  },
  {
   "cell_type": "code",
   "execution_count": null,
   "id": "c40229f6",
   "metadata": {},
   "outputs": [],
   "source": [
    "df_train"
   ]
  },
  {
   "cell_type": "code",
   "execution_count": null,
   "id": "fcd6961d",
   "metadata": {},
   "outputs": [],
   "source": [
    "df_train['date'] = df[\"date\"].astype(\"datetime64\")"
   ]
  },
  {
   "cell_type": "code",
   "execution_count": null,
   "id": "22f671ea",
   "metadata": {},
   "outputs": [],
   "source": [
    "print('Рапределение дат в исходном dataset')\n",
    "df_train.my.groupby([df[\"date\"].dt.year, df[\"date\"].dt.month]).count().plot(kind=\"bar\")"
   ]
  },
  {
   "cell_type": "code",
   "execution_count": null,
   "id": "e1325647",
   "metadata": {},
   "outputs": [],
   "source": [
    "print('Количество строк с датой в 1914 году:')\n",
    "print(df_train[df_train.date < '1950-01-01'].date.count())"
   ]
  },
  {
   "cell_type": "code",
   "execution_count": null,
   "id": "17dd1dd3",
   "metadata": {},
   "outputs": [],
   "source": [
    "df.drop(df[df.date < '1950-01-01'].index, inplace=True)"
   ]
  },
  {
   "cell_type": "code",
   "execution_count": null,
   "id": "26cf7754",
   "metadata": {},
   "outputs": [],
   "source": [
    "from pydoc_data.topics import topics\n",
    "\n",
    "\n",
    "df_topic0 = df[df.topic ==0].groupby(by='date').count()"
   ]
  },
  {
   "cell_type": "code",
   "execution_count": null,
   "id": "2465ec74",
   "metadata": {},
   "outputs": [],
   "source": [
    "df_topic0"
   ]
  },
  {
   "cell_type": "code",
   "execution_count": null,
   "id": "3dd1f24c",
   "metadata": {},
   "outputs": [],
   "source": [
    "df_topic0.plot(y='topic',title='topic 0')"
   ]
  },
  {
   "cell_type": "code",
   "execution_count": null,
   "id": "a99665cf",
   "metadata": {},
   "outputs": [],
   "source": [
    "import matplotlib.pyplot as plt\n",
    "\n",
    "plt.figure(figsize=(20, 10))\n",
    "\n",
    "for i in range(0, 10):\n",
    "    x = df[df.topic == i].groupby(by='date').count().index.to_numpy()\n",
    "    y = df[df.topic == i].groupby(by='date').count().topic.to_numpy()\n",
    "    plt.plot(x, y, label = 'topic' + str(i))\n",
    "\n",
    "\n",
    "plt.legend()\n",
    "plt.title('All topics')\n",
    "plt.show()"
   ]
  },
  {
   "cell_type": "code",
   "execution_count": null,
   "id": "c97e6954",
   "metadata": {},
   "outputs": [],
   "source": [
    "topic_num = 2\n",
    "date_list = df[df.topic == topic_num].groupby(by='date').count().index.to_numpy()\n",
    "count_list = df[df.topic == topic_num].groupby(by='date').count().topic.to_numpy()\n",
    "\n",
    "fig, ax = plt.subplots()\n",
    "fig.set_size_inches(20, 10)\n",
    "# ax = plt.gca()\n",
    "\n",
    "def plot_changes_(ax, date_list, count_list, thresh=.4):\n",
    "\n",
    "    thresh = 0.4\n",
    "    topic_num = 0\n",
    "    # date_list[:10], count_list[:120]\n",
    "\n",
    "    norm_count = [float(i) / max(count_list) for i in count_list]\n",
    "    ax.plot(date_list, norm_count, label='norm')\n",
    "\n",
    "    changes = []\n",
    "    for i in range(1, len(norm_count)):\n",
    "        changes.append(norm_count[i] - norm_count[i-1])\n",
    "        \n",
    "    ax.plot(date_list[1:], changes, label='changes')\n",
    "    ind_great_changes = [i+1 for i,v in enumerate(changes) if v >thresh]\n",
    "    ax.scatter(np.array(date_list)[ind_great_changes], np.array(norm_count)[ind_great_changes], c='r', label='date with great changes')\n",
    "\n",
    "    # ax.title('Даты с изменением в процентных изменения максимума более чем на {}%'.format(thresh *100))\n",
    "    ax.legend()\n",
    "    \n",
    "    \n",
    "plot_changes_(ax, date_list, count_list)"
   ]
  },
  {
   "cell_type": "code",
   "execution_count": null,
   "id": "bb06b434",
   "metadata": {},
   "outputs": [],
   "source": [
    "fig, axes = plt.subplots(5, 2)\n",
    "\n",
    "fig.set_size_inches(20, 20)\n",
    "\n",
    "ax = axes.flatten()\n",
    "\n",
    "for i in range(0, 10):\n",
    "    topic_num = i\n",
    "    date_list = df[df.topic == topic_num].groupby(by='date').count().index.to_numpy()\n",
    "    count_list = df[df.topic == topic_num].groupby(by='date').count().topic.to_numpy()\n",
    "    plot_changes_(ax[i], date_list, count_list)"
   ]
  },
  {
   "cell_type": "code",
   "execution_count": null,
   "id": "7017ff89",
   "metadata": {},
   "outputs": [],
   "source": [
    "topic_num = 0\n",
    "thresh = 0.4\n",
    "\n",
    "date_list = df[df.topic == topic_num].groupby(by='date').count().index.to_numpy()\n",
    "count_list = df[df.topic == topic_num].groupby(by='date').count().topic.to_numpy()\n",
    "norm_count = [float(i) / max(count_list) for i in count_list]\n",
    "changes = []\n",
    "\n",
    "for i in range(1, len(norm_count)):\n",
    "    changes.append(norm_count[i] - norm_count[i-1])\n",
    "\n",
    "ind_great_changes = [i+1 for i,v in enumerate(changes) if v >thresh]\n",
    "\n",
    "date_great_changes = np.array(date_list)[ind_great_changes]\n",
    "for date in date_great_changes:\n",
    "    print(date)\n",
    "    ind = df[(df.date == date) & (df.topic ==  topic_num)].index\n",
    "    print(df_train.loc[ind].title)"
   ]
  },
  {
   "cell_type": "code",
   "execution_count": null,
   "id": "fb666514",
   "metadata": {},
   "outputs": [],
   "source": [
    "date0 = date_great_changes[0]\n",
    "date0"
   ]
  },
  {
   "cell_type": "code",
   "execution_count": null,
   "id": "c119a01f",
   "metadata": {},
   "outputs": [],
   "source": [
    "df_train[]"
   ]
  },
  {
   "cell_type": "code",
   "execution_count": null,
   "id": "9f905c19",
   "metadata": {},
   "outputs": [],
   "source": [
    "print(df_train.loc[ind].title)"
   ]
  },
  {
   "cell_type": "code",
   "execution_count": null,
   "id": "f228ae5f",
   "metadata": {},
   "outputs": [],
   "source": []
  }
 ],
 "metadata": {
  "kernelspec": {
   "display_name": "Python 3.9.4 ('data-dz9rrfYH')",
   "language": "python",
   "name": "python3"
  },
  "language_info": {
   "codemirror_mode": {
    "name": "ipython",
    "version": 3
   },
   "file_extension": ".py",
   "mimetype": "text/x-python",
   "name": "python",
   "nbconvert_exporter": "python",
   "pygments_lexer": "ipython3",
   "version": "3.9.4"
  },
  "vscode": {
   "interpreter": {
    "hash": "0b7888f99ea6ae389ac75935b86a57fe331e5e59f773d7d532cb933bac24e6a7"
   }
  }
 },
 "nbformat": 4,
 "nbformat_minor": 5
}
