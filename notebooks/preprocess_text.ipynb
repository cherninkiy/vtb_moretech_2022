{
 "cells": [
  {
   "cell_type": "code",
   "execution_count": 1,
   "id": "4109f081",
   "metadata": {},
   "outputs": [],
   "source": [
    "import string\n",
    "import joblib\n",
    "from os import path\n",
    "\n",
    "import numpy as np\n",
    "import pandas as pd\n",
    "from scipy import sparse\n",
    "import seaborn as sns\n",
    "from matplotlib import pyplot as plt\n",
    "from tqdm import tqdm\n",
    "\n",
    "from utils import ls, cat\n",
    "\n",
    "tqdm.pandas()"
   ]
  },
  {
   "cell_type": "code",
   "execution_count": 2,
   "id": "d9b4400b",
   "metadata": {},
   "outputs": [
    {
     "name": "stdout",
     "output_type": "stream",
     "text": [
      "DIR      ../../data/stopwords-ru\n",
      "  2.1 GB ../../data/lenta-ru-news.csv\n",
      " 20.0  B ../../data/roles.csv\n",
      " 22.2 MB ../../data/train_lemmas.csv\n",
      " 22.7 MB ../../data/train_tokens.csv\n"
     ]
    }
   ],
   "source": [
    "DATA_DIR = '../../data'\n",
    "OUTPUT_DIR = '../../data'\n",
    "\n",
    "ls(DATA_DIR)"
   ]
  },
  {
   "cell_type": "code",
   "execution_count": 3,
   "id": "67efd8de",
   "metadata": {},
   "outputs": [
    {
     "data": {
      "text/html": [
       "<div>\n",
       "<style scoped>\n",
       "    .dataframe tbody tr th:only-of-type {\n",
       "        vertical-align: middle;\n",
       "    }\n",
       "\n",
       "    .dataframe tbody tr th {\n",
       "        vertical-align: top;\n",
       "    }\n",
       "\n",
       "    .dataframe thead th {\n",
       "        text-align: right;\n",
       "    }\n",
       "</style>\n",
       "<table border=\"1\" class=\"dataframe\">\n",
       "  <thead>\n",
       "    <tr style=\"text-align: right;\">\n",
       "      <th></th>\n",
       "      <th>url</th>\n",
       "      <th>title</th>\n",
       "      <th>text</th>\n",
       "      <th>topic</th>\n",
       "      <th>tags</th>\n",
       "      <th>date</th>\n",
       "    </tr>\n",
       "  </thead>\n",
       "  <tbody>\n",
       "    <tr>\n",
       "      <th>0</th>\n",
       "      <td>https://lenta.ru/news/1914/09/16/hungarnn/</td>\n",
       "      <td>1914. Русские войска вступили в пределы Венгрии</td>\n",
       "      <td>Бои у Сопоцкина и Друскеник закончились отступ...</td>\n",
       "      <td>Библиотека</td>\n",
       "      <td>Первая мировая</td>\n",
       "      <td>1914/09/16</td>\n",
       "    </tr>\n",
       "    <tr>\n",
       "      <th>1</th>\n",
       "      <td>https://lenta.ru/news/1914/09/16/lermontov/</td>\n",
       "      <td>1914. Празднование столетия М.Ю. Лермонтова от...</td>\n",
       "      <td>Министерство народного просвещения, в виду про...</td>\n",
       "      <td>Библиотека</td>\n",
       "      <td>Первая мировая</td>\n",
       "      <td>1914/09/16</td>\n",
       "    </tr>\n",
       "    <tr>\n",
       "      <th>2</th>\n",
       "      <td>https://lenta.ru/news/1914/09/17/nesteroff/</td>\n",
       "      <td>1914. Das ist Nesteroff!</td>\n",
       "      <td>Штабс-капитан П. Н. Нестеров на днях, увидев в...</td>\n",
       "      <td>Библиотека</td>\n",
       "      <td>Первая мировая</td>\n",
       "      <td>1914/09/17</td>\n",
       "    </tr>\n",
       "  </tbody>\n",
       "</table>\n",
       "</div>"
      ],
      "text/plain": [
       "                                           url  \\\n",
       "0   https://lenta.ru/news/1914/09/16/hungarnn/   \n",
       "1  https://lenta.ru/news/1914/09/16/lermontov/   \n",
       "2  https://lenta.ru/news/1914/09/17/nesteroff/   \n",
       "\n",
       "                                               title  \\\n",
       "0  1914. Русские войска вступили в пределы Венгрии     \n",
       "1  1914. Празднование столетия М.Ю. Лермонтова от...   \n",
       "2                           1914. Das ist Nesteroff!   \n",
       "\n",
       "                                                text       topic  \\\n",
       "0  Бои у Сопоцкина и Друскеник закончились отступ...  Библиотека   \n",
       "1  Министерство народного просвещения, в виду про...  Библиотека   \n",
       "2  Штабс-капитан П. Н. Нестеров на днях, увидев в...  Библиотека   \n",
       "\n",
       "             tags        date  \n",
       "0  Первая мировая  1914/09/16  \n",
       "1  Первая мировая  1914/09/16  \n",
       "2  Первая мировая  1914/09/17  "
      ]
     },
     "metadata": {},
     "output_type": "display_data"
    },
    {
     "data": {
      "text/plain": [
       "(10000, 6)"
      ]
     },
     "metadata": {},
     "output_type": "display_data"
    }
   ],
   "source": [
    "TRAIN_PATH = f'{DATA_DIR}/lenta-ru-news.csv'\n",
    "NUM_ROWS = 10000\n",
    "\n",
    "df_train = pd.read_csv(TRAIN_PATH, nrows=NUM_ROWS)\n",
    "display(df_train.head(3))\n",
    "display(df_train.shape)"
   ]
  },
  {
   "cell_type": "markdown",
   "id": "298f68c2",
   "metadata": {},
   "source": [
    "## Features"
   ]
  },
  {
   "cell_type": "code",
   "execution_count": 4,
   "id": "87741d49",
   "metadata": {},
   "outputs": [
    {
     "data": {
      "text/html": [
       "<div>\n",
       "<style scoped>\n",
       "    .dataframe tbody tr th:only-of-type {\n",
       "        vertical-align: middle;\n",
       "    }\n",
       "\n",
       "    .dataframe tbody tr th {\n",
       "        vertical-align: top;\n",
       "    }\n",
       "\n",
       "    .dataframe thead th {\n",
       "        text-align: right;\n",
       "    }\n",
       "</style>\n",
       "<table border=\"1\" class=\"dataframe\">\n",
       "  <thead>\n",
       "    <tr style=\"text-align: right;\">\n",
       "      <th></th>\n",
       "      <th>title</th>\n",
       "      <th>text</th>\n",
       "    </tr>\n",
       "  </thead>\n",
       "  <tbody>\n",
       "    <tr>\n",
       "      <th>0</th>\n",
       "      <td>1914. Русские войска вступили в пределы Венгрии</td>\n",
       "      <td>Бои у Сопоцкина и Друскеник закончились отступ...</td>\n",
       "    </tr>\n",
       "    <tr>\n",
       "      <th>1</th>\n",
       "      <td>1914. Празднование столетия М.Ю. Лермонтова от...</td>\n",
       "      <td>Министерство народного просвещения, в виду про...</td>\n",
       "    </tr>\n",
       "    <tr>\n",
       "      <th>2</th>\n",
       "      <td>1914. Das ist Nesteroff!</td>\n",
       "      <td>Штабс-капитан П. Н. Нестеров на днях, увидев в...</td>\n",
       "    </tr>\n",
       "    <tr>\n",
       "      <th>3</th>\n",
       "      <td>1914. Бульдог-гонец под Льежем</td>\n",
       "      <td>Фотограф-корреспондент Daily Mirror рассказыва...</td>\n",
       "    </tr>\n",
       "    <tr>\n",
       "      <th>4</th>\n",
       "      <td>1914. Под Люблином пойман швабский зверь</td>\n",
       "      <td>Лица, приехавшие в Варшаву из Люблина, передаю...</td>\n",
       "    </tr>\n",
       "  </tbody>\n",
       "</table>\n",
       "</div>"
      ],
      "text/plain": [
       "                                               title  \\\n",
       "0  1914. Русские войска вступили в пределы Венгрии     \n",
       "1  1914. Празднование столетия М.Ю. Лермонтова от...   \n",
       "2                           1914. Das ist Nesteroff!   \n",
       "3                    1914. Бульдог-гонец под Льежем    \n",
       "4           1914. Под Люблином пойман швабский зверь   \n",
       "\n",
       "                                                text  \n",
       "0  Бои у Сопоцкина и Друскеник закончились отступ...  \n",
       "1  Министерство народного просвещения, в виду про...  \n",
       "2  Штабс-капитан П. Н. Нестеров на днях, увидев в...  \n",
       "3  Фотограф-корреспондент Daily Mirror рассказыва...  \n",
       "4  Лица, приехавшие в Варшаву из Люблина, передаю...  "
      ]
     },
     "execution_count": 4,
     "metadata": {},
     "output_type": "execute_result"
    }
   ],
   "source": [
    "text_cols = ['title', 'text']\n",
    "\n",
    "df_train[text_cols].head()"
   ]
  },
  {
   "cell_type": "markdown",
   "id": "7c1cc058",
   "metadata": {},
   "source": [
    "## Tokenized Text"
   ]
  },
  {
   "cell_type": "code",
   "execution_count": 5,
   "id": "60cecd62",
   "metadata": {},
   "outputs": [],
   "source": [
    "# !pip install spacy\n",
    "# python -m spacy download ru_core_news_md"
   ]
  },
  {
   "cell_type": "code",
   "execution_count": 6,
   "id": "31c617cb",
   "metadata": {},
   "outputs": [],
   "source": [
    "import spacy\n",
    "\n",
    "nlp = spacy.load('ru_core_news_md', disable=['tagger', 'attribute_ruler', 'senter', 'parser', 'ner'])"
   ]
  },
  {
   "cell_type": "code",
   "execution_count": 7,
   "id": "c0e68fe8",
   "metadata": {},
   "outputs": [
    {
     "name": "stderr",
     "output_type": "stream",
     "text": [
      "100%|█████████████████████████████████████| 20000/20000 [05:57<00:00, 55.97it/s]\n"
     ]
    },
    {
     "data": {
      "text/html": [
       "<div>\n",
       "<style scoped>\n",
       "    .dataframe tbody tr th:only-of-type {\n",
       "        vertical-align: middle;\n",
       "    }\n",
       "\n",
       "    .dataframe tbody tr th {\n",
       "        vertical-align: top;\n",
       "    }\n",
       "\n",
       "    .dataframe thead th {\n",
       "        text-align: right;\n",
       "    }\n",
       "</style>\n",
       "<table border=\"1\" class=\"dataframe\">\n",
       "  <thead>\n",
       "    <tr style=\"text-align: right;\">\n",
       "      <th></th>\n",
       "      <th>title</th>\n",
       "      <th>text</th>\n",
       "    </tr>\n",
       "  </thead>\n",
       "  <tbody>\n",
       "    <tr>\n",
       "      <th>0</th>\n",
       "      <td>(1914, ., Русские, войска, вступили, в,  , пре...</td>\n",
       "      <td>(Бои, у, Сопоцкина, и, Друскеник, закончились,...</td>\n",
       "    </tr>\n",
       "    <tr>\n",
       "      <th>1</th>\n",
       "      <td>(1914, ., Празднование, столетия, М.Ю., Лермон...</td>\n",
       "      <td>(Министерство, народного, просвещения, ,, в, в...</td>\n",
       "    </tr>\n",
       "    <tr>\n",
       "      <th>2</th>\n",
       "      <td>(1914, ., Das, ist, Nesteroff, !)</td>\n",
       "      <td>(Штабс, -, капитан, П., Н., Нестеров, на, днях...</td>\n",
       "    </tr>\n",
       "    <tr>\n",
       "      <th>3</th>\n",
       "      <td>(1914, ., Бульдог, -, гонец, под, Льежем)</td>\n",
       "      <td>(Фотограф, -, корреспондент, Daily, Mirror, ра...</td>\n",
       "    </tr>\n",
       "    <tr>\n",
       "      <th>4</th>\n",
       "      <td>(1914, ., Под, Люблином, пойман, швабский, зверь)</td>\n",
       "      <td>(Лица, ,, приехавшие, в, Варшаву, из, Люблина,...</td>\n",
       "    </tr>\n",
       "    <tr>\n",
       "      <th>...</th>\n",
       "      <td>...</td>\n",
       "      <td>...</td>\n",
       "    </tr>\n",
       "    <tr>\n",
       "      <th>9995</th>\n",
       "      <td>(На, границе, Дагестана, и,  , Чечни, будут, с...</td>\n",
       "      <td>(Глава, МВД, Дагестана, приказал, нарядам, мил...</td>\n",
       "    </tr>\n",
       "    <tr>\n",
       "      <th>9996</th>\n",
       "      <td>(Путин, пересадит, губернаторов, в,  , Госсовет)</td>\n",
       "      <td>(Представители, Кремля, ведут, активный, диало...</td>\n",
       "    </tr>\n",
       "    <tr>\n",
       "      <th>9997</th>\n",
       "      <td>(В, Москву, съедутся, клоуны, со,  , всего, мира)</td>\n",
       "      <td>(В, Москве, 20, июля, открывается, фестиваль, ...</td>\n",
       "    </tr>\n",
       "    <tr>\n",
       "      <th>9998</th>\n",
       "      <td>(Старшая, Уильямс, выигрывает, чемпионский, ти...</td>\n",
       "      <td>( , Чисто, американским, получился, финал, Уим...</td>\n",
       "    </tr>\n",
       "    <tr>\n",
       "      <th>9999</th>\n",
       "      <td>(\", Зенит, \", выходит, в,  , третий, раунд, Ку...</td>\n",
       "      <td>(Первым, российским, клубом, ,, стартовавшим, ...</td>\n",
       "    </tr>\n",
       "  </tbody>\n",
       "</table>\n",
       "<p>10000 rows × 2 columns</p>\n",
       "</div>"
      ],
      "text/plain": [
       "                                                  title  \\\n",
       "0     (1914, ., Русские, войска, вступили, в,  , пре...   \n",
       "1     (1914, ., Празднование, столетия, М.Ю., Лермон...   \n",
       "2                     (1914, ., Das, ist, Nesteroff, !)   \n",
       "3             (1914, ., Бульдог, -, гонец, под, Льежем)   \n",
       "4     (1914, ., Под, Люблином, пойман, швабский, зверь)   \n",
       "...                                                 ...   \n",
       "9995  (На, границе, Дагестана, и,  , Чечни, будут, с...   \n",
       "9996   (Путин, пересадит, губернаторов, в,  , Госсовет)   \n",
       "9997  (В, Москву, съедутся, клоуны, со,  , всего, мира)   \n",
       "9998  (Старшая, Уильямс, выигрывает, чемпионский, ти...   \n",
       "9999  (\", Зенит, \", выходит, в,  , третий, раунд, Ку...   \n",
       "\n",
       "                                                   text  \n",
       "0     (Бои, у, Сопоцкина, и, Друскеник, закончились,...  \n",
       "1     (Министерство, народного, просвещения, ,, в, в...  \n",
       "2     (Штабс, -, капитан, П., Н., Нестеров, на, днях...  \n",
       "3     (Фотограф, -, корреспондент, Daily, Mirror, ра...  \n",
       "4     (Лица, ,, приехавшие, в, Варшаву, из, Люблина,...  \n",
       "...                                                 ...  \n",
       "9995  (Глава, МВД, Дагестана, приказал, нарядам, мил...  \n",
       "9996  (Представители, Кремля, ведут, активный, диало...  \n",
       "9997  (В, Москве, 20, июля, открывается, фестиваль, ...  \n",
       "9998  ( , Чисто, американским, получился, финал, Уим...  \n",
       "9999  (Первым, российским, клубом, ,, стартовавшим, ...  \n",
       "\n",
       "[10000 rows x 2 columns]"
      ]
     },
     "execution_count": 7,
     "metadata": {},
     "output_type": "execute_result"
    }
   ],
   "source": [
    "train_tokens = df_train[text_cols].fillna('') \\\n",
    "    .progress_applymap(nlp)\n",
    "    \n",
    "train_tokens"
   ]
  },
  {
   "cell_type": "code",
   "execution_count": 9,
   "id": "4d5026b3",
   "metadata": {},
   "outputs": [
    {
     "name": "stderr",
     "output_type": "stream",
     "text": [
      "100%|██████████████████████████████████| 20000/20000 [00:01<00:00, 12207.19it/s]"
     ]
    },
    {
     "name": "stdout",
     "output_type": "stream",
     "text": [
      " 13.9 MB ../../data/train_lemmas.csv\n"
     ]
    },
    {
     "name": "stderr",
     "output_type": "stream",
     "text": [
      "\n"
     ]
    }
   ],
   "source": [
    "TRAIN_LEMMAS_PATH = f'{OUTPUT_DIR}/train_lemmas.csv'\n",
    "\n",
    "\n",
    "def is_alphanum(token):\n",
    "    return not token.is_punct \\\n",
    "        and not token.is_currency \\\n",
    "        and not token.is_digit \\\n",
    "        and not token.is_punct \\\n",
    "        and not token.is_oov \\\n",
    "        and not token.is_space \\\n",
    "        and not token.is_stop \\\n",
    "        and not token.like_num \\\n",
    "        and not token.pos_ == \"PROPN\"\n",
    "\n",
    "train_tokens \\\n",
    "    .progress_applymap(lambda x: ' '.join(t.lemma_ for t in x if is_alphanum(t))) \\\n",
    "    .to_csv(TRAIN_LEMMAS_PATH)\n",
    "\n",
    "ls(OUTPUT_DIR, path.basename(TRAIN_LEMMAS_PATH))"
   ]
  },
  {
   "cell_type": "code",
   "execution_count": 10,
   "id": "5ca2647d",
   "metadata": {},
   "outputs": [
    {
     "data": {
      "text/html": [
       "<div>\n",
       "<style scoped>\n",
       "    .dataframe tbody tr th:only-of-type {\n",
       "        vertical-align: middle;\n",
       "    }\n",
       "\n",
       "    .dataframe tbody tr th {\n",
       "        vertical-align: top;\n",
       "    }\n",
       "\n",
       "    .dataframe thead th {\n",
       "        text-align: right;\n",
       "    }\n",
       "</style>\n",
       "<table border=\"1\" class=\"dataframe\">\n",
       "  <thead>\n",
       "    <tr style=\"text-align: right;\">\n",
       "      <th></th>\n",
       "      <th>title</th>\n",
       "      <th>text</th>\n",
       "    </tr>\n",
       "  </thead>\n",
       "  <tbody>\n",
       "    <tr>\n",
       "      <th>0</th>\n",
       "      <td>войско вступить предел</td>\n",
       "      <td>закончиться отступление германец приблизиться ...</td>\n",
       "    </tr>\n",
       "    <tr>\n",
       "      <th>1</th>\n",
       "      <td>столетие отложить</td>\n",
       "      <td>народный просвещение вид происходить чрезвычай...</td>\n",
       "    </tr>\n",
       "    <tr>\n",
       "      <th>2</th>\n",
       "      <td>ist</td>\n",
       "      <td>капитан день увидеть район лететь расположение...</td>\n",
       "    </tr>\n",
       "    <tr>\n",
       "      <th>3</th>\n",
       "      <td>гонец</td>\n",
       "      <td>корреспондент рассказывать случай порадует дру...</td>\n",
       "    </tr>\n",
       "    <tr>\n",
       "      <th>4</th>\n",
       "      <td>поймать швабский зверь</td>\n",
       "      <td>приехать передавать доставить швабский зверь в...</td>\n",
       "    </tr>\n",
       "    <tr>\n",
       "      <th>...</th>\n",
       "      <td>...</td>\n",
       "      <td>...</td>\n",
       "    </tr>\n",
       "    <tr>\n",
       "      <th>9995</th>\n",
       "      <td>граница стрелять водитель нарушитель</td>\n",
       "      <td>приказать наряд милиция приграничный блокпост ...</td>\n",
       "    </tr>\n",
       "    <tr>\n",
       "      <th>9996</th>\n",
       "      <td>губернатор</td>\n",
       "      <td>вести активный диалог губернатор лидер думский...</td>\n",
       "    </tr>\n",
       "    <tr>\n",
       "      <th>9997</th>\n",
       "      <td>съедутся клоун мир</td>\n",
       "      <td>июль открываться фестиваль клоунада смотр колл...</td>\n",
       "    </tr>\n",
       "    <tr>\n",
       "      <th>9998</th>\n",
       "      <td>выигрывать чемпионский титул</td>\n",
       "      <td>американский получиться финал теннисный турнир...</td>\n",
       "    </tr>\n",
       "    <tr>\n",
       "      <th>9999</th>\n",
       "      <td>выходить раунд</td>\n",
       "      <td>российский клуб сезон год европейский клубный ...</td>\n",
       "    </tr>\n",
       "  </tbody>\n",
       "</table>\n",
       "<p>10000 rows × 2 columns</p>\n",
       "</div>"
      ],
      "text/plain": [
       "                                     title  \\\n",
       "0                   войско вступить предел   \n",
       "1                        столетие отложить   \n",
       "2                                      ist   \n",
       "3                                    гонец   \n",
       "4                   поймать швабский зверь   \n",
       "...                                    ...   \n",
       "9995  граница стрелять водитель нарушитель   \n",
       "9996                            губернатор   \n",
       "9997                    съедутся клоун мир   \n",
       "9998          выигрывать чемпионский титул   \n",
       "9999                        выходить раунд   \n",
       "\n",
       "                                                   text  \n",
       "0     закончиться отступление германец приблизиться ...  \n",
       "1     народный просвещение вид происходить чрезвычай...  \n",
       "2     капитан день увидеть район лететь расположение...  \n",
       "3     корреспондент рассказывать случай порадует дру...  \n",
       "4     приехать передавать доставить швабский зверь в...  \n",
       "...                                                 ...  \n",
       "9995  приказать наряд милиция приграничный блокпост ...  \n",
       "9996  вести активный диалог губернатор лидер думский...  \n",
       "9997  июль открываться фестиваль клоунада смотр колл...  \n",
       "9998  американский получиться финал теннисный турнир...  \n",
       "9999  российский клуб сезон год европейский клубный ...  \n",
       "\n",
       "[10000 rows x 2 columns]"
      ]
     },
     "execution_count": 10,
     "metadata": {},
     "output_type": "execute_result"
    }
   ],
   "source": [
    "pd.read_csv(TRAIN_LEMMAS_PATH, index_col=[0])"
   ]
  }
 ],
 "metadata": {
  "kernelspec": {
   "display_name": "Python 3.9.4 64-bit ('3.9.4')",
   "language": "python",
   "name": "python3"
  },
  "language_info": {
   "codemirror_mode": {
    "name": "ipython",
    "version": 3
   },
   "file_extension": ".py",
   "mimetype": "text/x-python",
   "name": "python",
   "nbconvert_exporter": "python",
   "pygments_lexer": "ipython3",
   "version": "3.9.4"
  },
  "vscode": {
   "interpreter": {
    "hash": "afc370d476b54209adde1e89838c7f1ddd0a0aecbc8ffb6dcc96a8792b6318b3"
   }
  }
 },
 "nbformat": 4,
 "nbformat_minor": 5
}
